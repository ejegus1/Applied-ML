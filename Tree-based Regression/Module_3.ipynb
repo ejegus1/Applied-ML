{
 "cells": [
  {
   "cell_type": "markdown",
   "metadata": {},
   "source": [
    "# Assignment 2: Exploring Tree-Based Regression Methods for 2D Linear Data\n",
    "## DTSC 680: Applied Machine Learning\n",
    "\n",
    "## Name: Ejegu Smith"
   ]
  },
  {
   "cell_type": "markdown",
   "metadata": {},
   "source": [
    "## Directions and Overview\n",
    "\n",
    "The main purpose of this assignment is for you to gain experience using tree-based methods to solve simple regression problems.  In this assignment, you will fit a `Gradient-Boosted Regression Tree`, a `Random Forest`, and a `Decision Tree` to a noisy 2D linear data set.  Since these models can be trained very quickly on the supplied data, I want you to first manually adjust hyperparameter values and observe their influence on the model's predictions.  That is, you should manually sweep the hyperparameter space and try to hone in on the optimal hyperparameter values, again, _manually_.  (Yep, that means guess-and-check: pick some values, train the model, observe the prediction curve, repeat.)\n",
    "\n",
    "But wait, there's more! Merely attempting to identify the optimal hyperparameter values is not enough.  Be sure to really get a visceral understanding of how altering a hyperparameter in turn alters the model predictions (i.e. the prediction curve).  This is how you will build your machine learning intuition!\n",
    "\n",
    "So, play around and build some models.  When you are done playing with hyperparameter values, you should try to set these values to the optimal values manually (you're likely going to be _way_ off).  Then, retrain the model.  Next in this assignment, we will perform several grid searches, so you'll be able to compare your \"optimal\" hyperparameter values with those computed from the grid search.\n",
    "\n",
    "We will visualize model predictions for the optimal `Gradient-Boosted Regression Tree`, a `Random Forest`, and `Decision Tree` models that were determined by the grid searches.  Next, you will compute the generalization error on the test set for the three models.\n",
    "\n",
    "You will think critically about the different algorithms, as well as their prediction results, and characterize the trends you observe in the prediction results.  Can you explain in your own words how the algorithms work? How do the results predicted by these models compare and contrast?  Can you see any relationship between the algorithms and the model results?\n",
    "\n",
    "Lastly, based on the arguments outlined in your critical analysis you must identify the model that best characterizes this data.  In other words, which of these models is going to generalize better? Consider all factors."
   ]
  },
  {
   "cell_type": "markdown",
   "metadata": {},
   "source": [
    "## Preliminaries\n",
    "\n",
    "Let's import some common packages:"
   ]
  },
  {
   "cell_type": "code",
   "execution_count": 1,
   "metadata": {},
   "outputs": [],
   "source": [
    "# Common imports\n",
    "import matplotlib.pyplot as plt\n",
    "import matplotlib as mpl\n",
    "from matplotlib import cm\n",
    "import numpy as np\n",
    "import pandas as pd\n",
    "%matplotlib inline\n",
    "mpl.rc('axes', labelsize=14)\n",
    "mpl.rc('xtick', labelsize=12)\n",
    "mpl.rc('ytick', labelsize=12)\n",
    "import os\n",
    "\n",
    "# Where to save the figures\n",
    "PROJECT_ROOT_DIR = \".\"\n",
    "FOLDER = \"figures\"\n",
    "IMAGES_PATH = os.path.join(PROJECT_ROOT_DIR, FOLDER)\n",
    "os.makedirs(IMAGES_PATH, exist_ok=True)\n",
    "\n",
    "def save_fig(fig_id, tight_layout=True, fig_extension=\"png\", resolution=300):\n",
    "    path = os.path.join(IMAGES_PATH, fig_id + \".\" + fig_extension)\n",
    "    print(\"Saving figure\", fig_id)\n",
    "    if tight_layout:\n",
    "        plt.tight_layout()\n",
    "    plt.savefig(path, format=fig_extension, dpi=resolution)\n",
    "    \n",
    "def plot_predictions(regressor, X, y, axes, label=None, style=\"r-\", data_style=\"b.\", data_label=None):\n",
    "    x1 = np.linspace(axes[0], axes[1], 500)\n",
    "    y_pred = regressor.predict(x1.reshape(-1, 1)) \n",
    "    plt.plot(X[:, 0], y, data_style, label=data_label)\n",
    "    plt.plot(x1, y_pred, style, linewidth=2, label=label)\n",
    "    if label or data_label:\n",
    "        plt.legend(loc=\"upper center\", fontsize=16)\n",
    "    plt.axis(axes)"
   ]
  },
  {
   "cell_type": "markdown",
   "metadata": {},
   "source": [
    "# Import and Split Data\n",
    "\n",
    "Complete the following:\n",
    "\n",
    "\n",
    "\n",
    "1. Begin by importing the data from the file called `2DLinear.csv`.  Name the returned DataFrame `data`. \n",
    "\n",
    "2. Call [train_test_split()](https://scikit-learn.org/stable/modules/generated/sklearn.model_selection.train_test_split.html) with a `test_size` of 20%.  Save the output into `X_train`, `X_test`, `y_train`, and `y_test`, respectively.  Specify the `random_state` parameter to be `42` (do this throughout the entire note book).\n",
    "3. Reshape some data, so that we don't run into trouble later."
   ]
  },
  {
   "cell_type": "code",
   "execution_count": 2,
   "metadata": {},
   "outputs": [],
   "source": [
    "data = pd.read_csv('2DLinear.csv')\n",
    "\n",
    "from sklearn.model_selection import train_test_split\n",
    "X_train, X_test, y_train, y_test = train_test_split(data.x, data.y, test_size=.20,  random_state=42)\n",
    "\n",
    "# Reshape X Data and Make NumPy Arrays\n",
    "X_train = np.array(X_train).reshape(-1,1)\n",
    "X_test = np.array(X_test).reshape(-1,1)\n",
    "y_train = np.array(y_train)\n",
    "y_test = np.array(y_test)"
   ]
  },
  {
   "cell_type": "markdown",
   "metadata": {},
   "source": [
    "# Plot Data\n",
    "\n",
    "Simply plot your training data here in order to create the plot below."
   ]
  },
  {
   "cell_type": "code",
   "execution_count": 72,
   "metadata": {},
   "outputs": [
    {
     "data": {
      "text/plain": [
       "Text(0, 0.5, 'y')"
      ]
     },
     "execution_count": 72,
     "metadata": {},
     "output_type": "execute_result"
    },
    {
     "data": {
      "image/png": "[encoded data removed]",
      "text/plain": [
       "<Figure size 792x360 with 1 Axes>"
      ]
     },
     "metadata": {
      "needs_background": "light"
     },
     "output_type": "display_data"
    }
   ],
   "source": [
    "plt.figure(figsize=(11,5))\n",
    "plt.scatter(X_train, y_train, marker='o', linestyle='None')\n",
    "plt.title('Noisy 2D Linear Data')\n",
    "plt.xlabel('X')\n",
    "plt.ylabel('y')"
   ]
  },
  {
   "cell_type": "markdown",
   "metadata": {},
   "source": [
    "# Explore 2D Linear Data: GradientBoostingRegressor\n",
    "\n",
    "Fit a `GradientBoostingRegressor` model to this data.  You must manually assign values to the following hyperparameters.  You should \"play around\" by using different combinations of hyperparameter values to really get a feel for how they affect the model's predictions.  When you are done playing, set these to the best values you can for submission.  (It is totally fine if you don't elucidate the optimal values here; however, you will want to make sure your model is not excessively overfitting or underfitting the data.  Do this by examining the prediction curve generated by your model.  You will be graded, more exactly, on the values that you calculate later from performing several rounds of grid searches.)\n",
    "\n",
    " - `learning_rate = <value>`\n",
    " - `max_depth = <value>`\n",
    " - `n_estimators = <value>`\n",
    " - `random_state = 42`"
   ]
  },
  {
   "cell_type": "code",
   "execution_count": 66,
   "metadata": {},
   "outputs": [
    {
     "data": {
      "text/plain": [
       "GradientBoostingRegressor(max_depth=2, n_estimators=50, random_state=42)"
      ]
     },
     "execution_count": 66,
     "metadata": {},
     "output_type": "execute_result"
    }
   ],
   "source": [
    "from sklearn.ensemble import GradientBoostingRegressor\n",
    "\n",
    "gbrt = GradientBoostingRegressor(max_depth=2, n_estimators=50, learning_rate=0.1, random_state=42)\n",
    "gbrt.fit(X_train,y_train)\n",
    "\n"
   ]
  },
  {
   "cell_type": "markdown",
   "metadata": {},
   "source": [
    "### Plot Model Predictions for Training Set"
   ]
  },
  {
   "cell_type": "code",
   "execution_count": 71,
   "metadata": {},
   "outputs": [
    {
     "data": {
      "text/plain": [
       "Text(0, 0.5, '$y$')"
      ]
     },
     "execution_count": 71,
     "metadata": {},
     "output_type": "execute_result"
    },
    {
     "data": {
      "image/png": "[encoded data removed]",
      "text/plain": [
       "<Figure size 792x360 with 1 Axes>"
      ]
     },
     "metadata": {
      "needs_background": "light"
     },
     "output_type": "display_data"
    }
   ],
   "source": [
    "plt.figure(figsize=(11,5))\n",
    "plot_predictions(gbrt, X_train, y_train, axes=[0, 2, 0, 14],label=\"Ensemble predictions\")\n",
    "plt.title(\"GradientBoostingRegressor: learning_rate=0.1, n_estimators=50\", fontsize=14)\n",
    "plt.xlabel(\"$x$\", fontsize=16)\n",
    "plt.ylabel(\"$y$\", fontsize=16, rotation=0)"
   ]
  },
  {
   "cell_type": "code",
   "execution_count": 6,
   "metadata": {},
   "outputs": [
    {
     "name": "stdout",
     "output_type": "stream",
     "text": [
      "Saving figure gbrt_2DLinearReg\n"
     ]
    },
    {
     "data": {
      "image/png": "[encoded data removed]",
      "text/plain": [
       "<Figure size 720x360 with 1 Axes>"
      ]
     },
     "metadata": {
      "needs_background": "light"
     },
     "output_type": "display_data"
    }
   ],
   "source": [
    "### ENTER CODE HERE ###\n",
    "plot_predictions(### ENTER CODE HERE ###)\n",
    "### ENTER CODE HERE ###"
   ]
  },
  {
   "cell_type": "markdown",
   "metadata": {},
   "source": [
    "# Explore 2D Linear Data: RandomForestRegressor\n",
    "\n",
    "Fit a `RandomForestRegressor` model to this data.  You must manually assign values to the following hyperparameters.  You should \"play around\" by using different combinations of hyperparameter values to really get a feel for how they affect the model's predictions.  When you are done playing, set these to the best values you can for submission.  (It is totally fine if you don't elucidate the optimal values here; however, you will want to make sure your model is not excessively overfitting or underfitting the data.  Do this by examining the prediction curve generated by your model.  You will be graded, more exactly, on the values that you calculate later from performing several rounds of grid searches.)\n",
    "\n",
    " - `min_samples_split = <value>`\n",
    " - `max_depth = <value>`\n",
    " - `n_estimators = <value>`\n",
    " - `random_state = 42`"
   ]
  },
  {
   "cell_type": "code",
   "execution_count": 61,
   "metadata": {},
   "outputs": [
    {
     "data": {
      "text/plain": [
       "RandomForestRegressor(max_depth=2, n_estimators=500, random_state=42)"
      ]
     },
     "execution_count": 61,
     "metadata": {},
     "output_type": "execute_result"
    }
   ],
   "source": [
    "from sklearn.ensemble import RandomForestRegressor\n",
    "\n",
    "rnd_reg = RandomForestRegressor(n_estimators=500\n",
    "                                , min_samples_split=2, max_depth=2, random_state=42)\n",
    "rnd_reg.fit(X_train, y_train)\n"
   ]
  },
  {
   "cell_type": "markdown",
   "metadata": {},
   "source": [
    "### Plot Model Predictions for Training Set"
   ]
  },
  {
   "cell_type": "code",
   "execution_count": 73,
   "metadata": {},
   "outputs": [
    {
     "data": {
      "text/plain": [
       "Text(0, 0.5, '$y$')"
      ]
     },
     "execution_count": 73,
     "metadata": {},
     "output_type": "execute_result"
    },
    {
     "data": {
      "image/png": "[encoded data removed]",
      "text/plain": [
       "<Figure size 792x360 with 1 Axes>"
      ]
     },
     "metadata": {
      "needs_background": "light"
     },
     "output_type": "display_data"
    }
   ],
   "source": [
    "plt.figure(figsize=(11,5))\n",
    "plot_predictions(rnd_reg, X_train, y_train, axes=[0, 2, 0, 14],label=\"Ensemble predictions\")\n",
    "plt.title(\"RandomForestRegressor\", fontsize=14)\n",
    "plt.xlabel(\"$x$\", fontsize=16)\n",
    "plt.ylabel(\"$y$\", fontsize=16, rotation=0)"
   ]
  },
  {
   "cell_type": "code",
   "execution_count": 8,
   "metadata": {},
   "outputs": [
    {
     "name": "stdout",
     "output_type": "stream",
     "text": [
      "Saving figure rf_2DLinearReg\n"
     ]
    },
    {
     "data": {
      "image/png": "[encoded data removed]",
      "text/plain": [
       "<Figure size 720x360 with 1 Axes>"
      ]
     },
     "metadata": {
      "needs_background": "light"
     },
     "output_type": "display_data"
    }
   ],
   "source": [
    "### ENTER CODE HERE ###\n",
    "plot_predictions(### ENTER CODE HERE ###)\n",
    "### ENTER CODE HERE ###"
   ]
  },
  {
   "cell_type": "markdown",
   "metadata": {},
   "source": [
    "# Explore 2D Linear Data: DecisionTreeRegressor\n",
    "\n",
    "Fit a `DecisionTreeRegressor` model to this data.  You must manually assign values to the following hyperparameters.  You should \"play around\" by using different combinations of hyperparameter values to really get a feel for how they affect the model's predictions.  When you are done playing, set these to the best values you can for submission.  (It is totally fine if you don't elucidate the optimal values here; however, you will want to make sure your model is not excessively overfitting or underfitting the data.  Do this by examining the prediction curve generated by your model.  You will be graded, more exactly, on the values that you calculate later from performing several rounds of grid searches.)\n",
    "\n",
    " - `splitter = <value>`\n",
    " - `max_depth = <value>`\n",
    " - `min_samples_split = <value>`\n",
    " - `random_state = 42`"
   ]
  },
  {
   "cell_type": "code",
   "execution_count": 52,
   "metadata": {},
   "outputs": [
    {
     "data": {
      "text/plain": [
       "DecisionTreeRegressor(max_depth=2, random_state=42)"
      ]
     },
     "execution_count": 52,
     "metadata": {},
     "output_type": "execute_result"
    }
   ],
   "source": [
    "from sklearn.tree import DecisionTreeRegressor\n",
    "\n",
    "tree_reg = DecisionTreeRegressor(splitter='best', max_depth=2, min_samples_split=2, random_state=42)\n",
    "tree_reg.fit(X_train, y_train)"
   ]
  },
  {
   "cell_type": "markdown",
   "metadata": {},
   "source": [
    "### Plot Model Predictions for Training Set"
   ]
  },
  {
   "cell_type": "code",
   "execution_count": 74,
   "metadata": {},
   "outputs": [
    {
     "data": {
      "text/plain": [
       "Text(0, 0.5, '$y$')"
      ]
     },
     "execution_count": 74,
     "metadata": {},
     "output_type": "execute_result"
    },
    {
     "data": {
      "image/png": "[encoded data removed]",
      "text/plain": [
       "<Figure size 792x360 with 1 Axes>"
      ]
     },
     "metadata": {
      "needs_background": "light"
     },
     "output_type": "display_data"
    }
   ],
   "source": [
    "plt.figure(figsize=(11,5))\n",
    "plot_predictions(tree_reg, X_train, y_train, axes=[0, 2, 0, 14],label=\"Single Decision Tree\")\n",
    "plt.title(\"DecisionTreeRegressor\", fontsize=14)\n",
    "plt.xlabel(\"$x$\", fontsize=16)\n",
    "plt.ylabel(\"$y$\", fontsize=16, rotation=0)"
   ]
  },
  {
   "cell_type": "code",
   "execution_count": 10,
   "metadata": {},
   "outputs": [
    {
     "name": "stdout",
     "output_type": "stream",
     "text": [
      "Saving figure dt_2DLinearReg\n"
     ]
    },
    {
     "data": {
      "image/png": "[encoded data removed]",
      "text/plain": [
       "<Figure size 720x360 with 1 Axes>"
      ]
     },
     "metadata": {
      "needs_background": "light"
     },
     "output_type": "display_data"
    }
   ],
   "source": [
    "### ENTER CODE HERE ###\n",
    "plot_predictions(### ENTER CODE HERE ###)\n",
    "### ENTER CODE HERE ###"
   ]
  },
  {
   "cell_type": "markdown",
   "metadata": {},
   "source": [
    "# Perform Grid Searches\n",
    "\n",
    "You will perform a series of grid searches, which will yield the optimal hyperparamter values for each of the three model types.  You can compare the values computed by the grid search with the values you manually found earlier.  How do these compare?\n",
    "\n",
    "You must perform a course-grained grid search, with a very broad range of values first.  Then, you perform a second grid search using a tighter range of values centered on those identified in the first grid search.  You may have to use another round of grid searching too (it took me at least three rounds of grid searches per model to ascertain the optimal hyperparameter values below).\n",
    "\n",
    "Note the following:\n",
    "\n",
    "1. Be sure to clearly report the optimal hyperparameters in the designated location after you calculate them!\n",
    "\n",
    "2. You must use `random_state=42` everywhere that it is needed in this notebook.\n",
    "\n",
    "3. You must use grid search to compute the following hyperparameters. Use the following hyperparameter values as the bounds of the ranges to be probed in your initial (course-grained) stint of grid searching. Note that these are NOT upper bounds for the further refined grid searches. If your initial search returns the upper bound of your values, you can (and should) search further above and below that value. You should examine these hyperparameters and their associated ranges, learn from this example, and use these values as a basis for your own future work when performing grid searches.  This is how you will build your machine learning intuition.  Keep in mind, these values also depend somewhat on this specific dataset!  (For example, it is important to notice that I decided to probe up to 1,000 for n_estimators.  10 would have been far too small.  1,000,000 would have been far too large.) \n",
    "\n",
    "   GradientBoostingRegressor:\n",
    "    \n",
    "     - `max_depth = up to 32`\n",
    "     - `n_estimators = up to 1000`\n",
    "     - `learning_rate = from .01 to 1`\n",
    "\n",
    "   RandomForestRegressor:\n",
    "    \n",
    "     - `max_depth = up to 32`\n",
    "     - `n_estimators = up to 1000`\n",
    "     - `min_samples_split = up to 20`\n",
    "\n",
    "   DecisionTreeRegressor:\n",
    "    \n",
    "     - `splitter = [\"best\", \"random\"]`\n",
    "     - `max_depth = up to 32`\n",
    "     - `min_samples_split = up to 20`  \n",
    "     \n",
    "     \n",
    "4. `learning rate` should be rounded to two decimals.\n",
    "5. The number of cross-folds. Specify `cv=3`\n"
   ]
  },
  {
   "cell_type": "markdown",
   "metadata": {},
   "source": [
    "## Perform Individual Model Grid Searches\n",
    "\n",
    "In this section you will perform a series of grid searches to compute the optimal hyperparameter values for each of the three model types."
   ]
  },
  {
   "cell_type": "code",
   "execution_count": 16,
   "metadata": {},
   "outputs": [
    {
     "name": "stdout",
     "output_type": "stream",
     "text": [
      "Fitting 3 folds for each of 343 candidates, totalling 1029 fits\n"
     ]
    },
    {
     "name": "stderr",
     "output_type": "stream",
     "text": [
      "[Parallel(n_jobs=1)]: Using backend SequentialBackend with 1 concurrent workers.\n"
     ]
    },
    {
     "name": "stdout",
     "output_type": "stream",
     "text": [
      "The best parameters are:  {'learning_rate': 0.3, 'max_depth': 1, 'n_estimators': 350}\n"
     ]
    },
    {
     "name": "stderr",
     "output_type": "stream",
     "text": [
      "[Parallel(n_jobs=1)]: Done 1029 out of 1029 | elapsed:  1.9min finished\n"
     ]
    }
   ],
   "source": [
    "# -----\n",
    "# Coarse-Grained GradientBoostingRegressor GridSearch\n",
    "# -----\n",
    "\n",
    "from sklearn.model_selection import GridSearchCV\n",
    "\n",
    "param_grid = [\n",
    "\n",
    "    {'max_depth': [1,2,4,6,8,16,32], 'n_estimators': [100, 250, 350, 500, 750, 800, 1000],\n",
    "    'learning_rate': [.01, 0.10, 0.30, 0.50, 0.70, .80, 1]}\n",
    "]\n",
    "\n",
    "grid_search_cg = GridSearchCV(gbrt, param_grid, verbose=1, cv=3)\n",
    "\n",
    "grid_search_cg.fit(X_train, y_train)\n",
    "\n",
    "print(\"The best parameters are: \", grid_search_cg.best_params_)"
   ]
  },
  {
   "cell_type": "code",
   "execution_count": 17,
   "metadata": {},
   "outputs": [
    {
     "name": "stdout",
     "output_type": "stream",
     "text": [
      "Fitting 3 folds for each of 189 candidates, totalling 567 fits\n"
     ]
    },
    {
     "name": "stderr",
     "output_type": "stream",
     "text": [
      "[Parallel(n_jobs=1)]: Using backend SequentialBackend with 1 concurrent workers.\n"
     ]
    },
    {
     "name": "stdout",
     "output_type": "stream",
     "text": [
      "The best parameters are:  {'learning_rate': 0.3, 'max_depth': 1, 'n_estimators': 400}\n"
     ]
    },
    {
     "name": "stderr",
     "output_type": "stream",
     "text": [
      "[Parallel(n_jobs=1)]: Done 567 out of 567 | elapsed:   39.0s finished\n"
     ]
    }
   ],
   "source": [
    "# -----\n",
    "# Refined GradientBoostingRegressor GridSearch\n",
    "# -----\n",
    "param_grid = [\n",
    "\n",
    "    {'max_depth': [1,2,3], 'n_estimators': [100, 200, 250, 300, 350,400,450, 500, 550],\n",
    "    'learning_rate': [.01,.15, 0.3, 0.4, 0.5, 0.6, 0.7]}\n",
    "]\n",
    "\n",
    "grid_search_cg = GridSearchCV(gbrt, param_grid, verbose=1, cv=3)\n",
    "\n",
    "grid_search_cg.fit(X_train, y_train)\n",
    "\n",
    "print(\"The best parameters are: \", grid_search_cg.best_params_)"
   ]
  },
  {
   "cell_type": "code",
   "execution_count": 19,
   "metadata": {},
   "outputs": [
    {
     "name": "stdout",
     "output_type": "stream",
     "text": [
      "Fitting 3 folds for each of 70 candidates, totalling 210 fits\n"
     ]
    },
    {
     "name": "stderr",
     "output_type": "stream",
     "text": [
      "[Parallel(n_jobs=1)]: Using backend SequentialBackend with 1 concurrent workers.\n"
     ]
    },
    {
     "name": "stdout",
     "output_type": "stream",
     "text": [
      "The best parameters are:  {'learning_rate': 0.3, 'max_depth': 1, 'n_estimators': 400}\n"
     ]
    },
    {
     "name": "stderr",
     "output_type": "stream",
     "text": [
      "[Parallel(n_jobs=1)]: Done 210 out of 210 | elapsed:   15.2s finished\n"
     ]
    }
   ],
   "source": [
    "# -----\n",
    "# Final GradientBoostingRegressor GridSearch\n",
    "# -----\n",
    "\n",
    "param_grid = [\n",
    "\n",
    "    {'max_depth': [1,2], 'n_estimators': [300, 325, 350,375,400,425,450],\n",
    "    'learning_rate': [0.1,0.2, 0.3, 0.4, 0.5]}\n",
    "]\n",
    "\n",
    "grid_search_cg = GridSearchCV(gbrt, param_grid, verbose=1, cv=3)\n",
    "\n",
    "grid_search_cg.fit(X_train, y_train)\n",
    "\n",
    "print(\"The best parameters are: \", grid_search_cg.best_params_)"
   ]
  },
  {
   "cell_type": "markdown",
   "metadata": {},
   "source": [
    "On this dataset, the optimal model parameters for the `GradientBoostingRegressor` class are:\n",
    "\n",
    "- `learning_rate = 0.3`\n",
    "- `max_depth = 1`\n",
    "- `n_estimators = 400`"
   ]
  },
  {
   "cell_type": "code",
   "execution_count": 55,
   "metadata": {},
   "outputs": [
    {
     "name": "stdout",
     "output_type": "stream",
     "text": [
      "Fitting 3 folds for each of 294 candidates, totalling 882 fits\n"
     ]
    },
    {
     "name": "stderr",
     "output_type": "stream",
     "text": [
      "[Parallel(n_jobs=1)]: Using backend SequentialBackend with 1 concurrent workers.\n"
     ]
    },
    {
     "name": "stdout",
     "output_type": "stream",
     "text": [
      "The best parameters are:  {'max_depth': 6, 'min_samples_split': 7, 'n_estimators': 100}\n"
     ]
    },
    {
     "name": "stderr",
     "output_type": "stream",
     "text": [
      "[Parallel(n_jobs=1)]: Done 882 out of 882 | elapsed:  6.8min finished\n"
     ]
    }
   ],
   "source": [
    "# -----\n",
    "# Coarse-Grained RandomForestRegressor GridSearch\n",
    "# -----\n",
    "\n",
    "param_grid = [\n",
    "\n",
    "    {'max_depth': [1,2,4,6,8,16,32], 'n_estimators': [100, 250, 350, 500, 750, 800, 1000],\n",
    "    'min_samples_split': [2, 3, 7, 10, 15, 20]}\n",
    "]\n",
    "\n",
    "grid_search_cg = GridSearchCV(rnd_reg, param_grid, verbose=1, cv=3)\n",
    "\n",
    "grid_search_cg.fit(X_train, y_train)\n",
    "\n",
    "print(\"The best parameters are: \", grid_search_cg.best_params_)"
   ]
  },
  {
   "cell_type": "code",
   "execution_count": 57,
   "metadata": {},
   "outputs": [
    {
     "name": "stdout",
     "output_type": "stream",
     "text": [
      "Fitting 3 folds for each of 144 candidates, totalling 432 fits\n"
     ]
    },
    {
     "name": "stderr",
     "output_type": "stream",
     "text": [
      "[Parallel(n_jobs=1)]: Using backend SequentialBackend with 1 concurrent workers.\n"
     ]
    },
    {
     "name": "stdout",
     "output_type": "stream",
     "text": [
      "The best parameters are:  {'max_depth': 5, 'min_samples_split': 6, 'n_estimators': 100}\n"
     ]
    },
    {
     "name": "stderr",
     "output_type": "stream",
     "text": [
      "[Parallel(n_jobs=1)]: Done 432 out of 432 | elapsed:   47.4s finished\n"
     ]
    }
   ],
   "source": [
    "# -----\n",
    "# Refined RandomForestRegressor GridSearch\n",
    "# -----\n",
    "\n",
    "param_grid = [\n",
    "\n",
    "    {'max_depth': [3,4,5,6,7,10], 'n_estimators': [50,100,150,200],\n",
    "    'min_samples_split': [4,5,6,7,8,9]}\n",
    "]\n",
    "\n",
    "grid_search_cg = GridSearchCV(rnd_reg, param_grid, verbose=1, cv=3)\n",
    "\n",
    "grid_search_cg.fit(X_train, y_train)\n",
    "\n",
    "print(\"The best parameters are: \", grid_search_cg.best_params_)"
   ]
  },
  {
   "cell_type": "code",
   "execution_count": 58,
   "metadata": {},
   "outputs": [
    {
     "name": "stdout",
     "output_type": "stream",
     "text": [
      "Fitting 3 folds for each of 2 candidates, totalling 6 fits\n"
     ]
    },
    {
     "name": "stderr",
     "output_type": "stream",
     "text": [
      "[Parallel(n_jobs=1)]: Using backend SequentialBackend with 1 concurrent workers.\n",
      "[Parallel(n_jobs=1)]: Done   6 out of   6 | elapsed:    0.6s finished\n"
     ]
    },
    {
     "name": "stdout",
     "output_type": "stream",
     "text": [
      "The best parameters are:  {'max_depth': 5, 'min_samples_split': 6, 'n_estimators': 100}\n"
     ]
    }
   ],
   "source": [
    "# -----\n",
    "# Final RandomForestRegressor GridSearch\n",
    "# -----\n",
    "\n",
    "param_grid = [\n",
    "\n",
    "    {'max_depth': [5], 'n_estimators': [100],\n",
    "    'min_samples_split': [6,7]}\n",
    "]\n",
    "\n",
    "grid_search_cg = GridSearchCV(rnd_reg, param_grid, verbose=1, cv=3)\n",
    "\n",
    "grid_search_cg.fit(X_train, y_train)\n",
    "\n",
    "print(\"The best parameters are: \", grid_search_cg.best_params_)"
   ]
  },
  {
   "cell_type": "markdown",
   "metadata": {},
   "source": [
    "On this dataset, the optimal model parameters for the `RandomForestRegressor` class are:\n",
    "\n",
    "- `max_depth = 5`\n",
    "- `n_estimators = 100`\n",
    "- `min_samples_split = 6`"
   ]
  },
  {
   "cell_type": "code",
   "execution_count": 47,
   "metadata": {},
   "outputs": [
    {
     "name": "stdout",
     "output_type": "stream",
     "text": [
      "Fitting 3 folds for each of 84 candidates, totalling 252 fits\n"
     ]
    },
    {
     "name": "stderr",
     "output_type": "stream",
     "text": [
      "[Parallel(n_jobs=1)]: Using backend SequentialBackend with 1 concurrent workers.\n"
     ]
    },
    {
     "name": "stdout",
     "output_type": "stream",
     "text": [
      "The best parameters are:  {'max_depth': 6, 'min_samples_split': 10, 'splitter': 'best'}\n"
     ]
    },
    {
     "name": "stderr",
     "output_type": "stream",
     "text": [
      "[Parallel(n_jobs=1)]: Done 252 out of 252 | elapsed:    0.3s finished\n"
     ]
    }
   ],
   "source": [
    "# -----\n",
    "# Coarse-Grained DecisionTreeRegressor GridSearch\n",
    "# -----\n",
    "\n",
    "param_grid = [\n",
    "\n",
    "    {'max_depth': [1,2,4,6,8,16,32], 'splitter' : [\"best\", \"random\"],\n",
    "    'min_samples_split': [2, 3, 7, 10, 15, 20]}\n",
    "]\n",
    "\n",
    "grid_search_cg = GridSearchCV(tree_reg, param_grid, verbose=1, cv=3)\n",
    "\n",
    "grid_search_cg.fit(X_train, y_train)\n",
    "\n",
    "print(\"The best parameters are: \", grid_search_cg.best_params_)"
   ]
  },
  {
   "cell_type": "code",
   "execution_count": 48,
   "metadata": {},
   "outputs": [
    {
     "name": "stdout",
     "output_type": "stream",
     "text": [
      "Fitting 3 folds for each of 112 candidates, totalling 336 fits\n"
     ]
    },
    {
     "name": "stderr",
     "output_type": "stream",
     "text": [
      "[Parallel(n_jobs=1)]: Using backend SequentialBackend with 1 concurrent workers.\n"
     ]
    },
    {
     "name": "stdout",
     "output_type": "stream",
     "text": [
      "The best parameters are:  {'max_depth': 6, 'min_samples_split': 10, 'splitter': 'best'}\n"
     ]
    },
    {
     "name": "stderr",
     "output_type": "stream",
     "text": [
      "[Parallel(n_jobs=1)]: Done 336 out of 336 | elapsed:    0.4s finished\n"
     ]
    }
   ],
   "source": [
    "# -----\n",
    "# Refined DecisionTreeRegressor GridSearch\n",
    "# -----\n",
    "\n",
    "param_grid = [\n",
    "\n",
    "    {'max_depth': [2,4,5,6,7,8,9], 'splitter' : [\"best\", \"random\"],\n",
    "    'min_samples_split': [7,8,9, 10, 11, 13,14, 15]}\n",
    "]\n",
    "\n",
    "grid_search_cg = GridSearchCV(tree_reg, param_grid, verbose=1, cv=3)\n",
    "\n",
    "grid_search_cg.fit(X_train, y_train)\n",
    "\n",
    "print(\"The best parameters are: \", grid_search_cg.best_params_)"
   ]
  },
  {
   "cell_type": "code",
   "execution_count": 49,
   "metadata": {},
   "outputs": [
    {
     "name": "stdout",
     "output_type": "stream",
     "text": [
      "Fitting 3 folds for each of 9 candidates, totalling 27 fits\n",
      "The best parameters are:  {'max_depth': 6, 'min_samples_split': 10, 'splitter': 'best'}\n"
     ]
    },
    {
     "name": "stderr",
     "output_type": "stream",
     "text": [
      "[Parallel(n_jobs=1)]: Using backend SequentialBackend with 1 concurrent workers.\n",
      "[Parallel(n_jobs=1)]: Done  27 out of  27 | elapsed:    0.0s finished\n"
     ]
    }
   ],
   "source": [
    "# -----\n",
    "# Final DecisionTreeRegressor GridSearch\n",
    "# -----\n",
    "\n",
    "param_grid = [\n",
    "\n",
    "    {'max_depth': [5,6,7], 'splitter' : [\"best\"],\n",
    "    'min_samples_split': [9,10, 11]}\n",
    "]\n",
    "\n",
    "grid_search_cg = GridSearchCV(tree_reg, param_grid, verbose=1, cv=3)\n",
    "\n",
    "grid_search_cg.fit(X_train, y_train)\n",
    "\n",
    "print(\"The best parameters are: \", grid_search_cg.best_params_)"
   ]
  },
  {
   "cell_type": "markdown",
   "metadata": {},
   "source": [
    "On this dataset, the optimal model parameters for the `DecisionTreeRegressor` class are:\n",
    "\n",
    "- `splitter = best`\n",
    "- `max_depth = 6`\n",
    "- `min_samples_split = 10`"
   ]
  },
  {
   "cell_type": "markdown",
   "metadata": {},
   "source": [
    "# Visualize Optimal Model Predictions\n",
    "\n",
    "In the previous section you performed a series of grid searches designed to identify the optimal hyperparameter values for all three models.  Now, use the `best_params_` attribute of the grid search objects from above to create the three optimal models below.  For each model, visualize the models predictions on the training set - this is what we mean by the \"prediction curve\" of the model.  \n",
    "\n",
    "### Create Optimal GradientBoostingRegressor Model"
   ]
  },
  {
   "cell_type": "code",
   "execution_count": 77,
   "metadata": {},
   "outputs": [
    {
     "data": {
      "text/plain": [
       "GradientBoostingRegressor(learning_rate=0.3, max_depth=1, n_estimators=400,\n",
       "                          random_state=42)"
      ]
     },
     "execution_count": 77,
     "metadata": {},
     "output_type": "execute_result"
    }
   ],
   "source": [
    "#using optimal paramaters from grid search above\n",
    "\n",
    "gbrt = GradientBoostingRegressor(max_depth=1, n_estimators=400, learning_rate=0.3, random_state=42)\n",
    "gbrt.fit(X_train,y_train)"
   ]
  },
  {
   "cell_type": "markdown",
   "metadata": {},
   "source": [
    "### Plot Model Predictions for Training Set"
   ]
  },
  {
   "cell_type": "code",
   "execution_count": 78,
   "metadata": {},
   "outputs": [
    {
     "data": {
      "text/plain": [
       "Text(0, 0.5, '$y$')"
      ]
     },
     "execution_count": 78,
     "metadata": {},
     "output_type": "execute_result"
    },
    {
     "data": {
      "image/png": "[encoded data removed]",
      "text/plain": [
       "<Figure size 792x360 with 1 Axes>"
      ]
     },
     "metadata": {
      "needs_background": "light"
     },
     "output_type": "display_data"
    }
   ],
   "source": [
    "plt.figure(figsize=(11,5))\n",
    "plot_predictions(gbrt, X_train, y_train, axes=[0, 2, 0, 14],label=\"Ensemble predictions\")\n",
    "plt.title(\"GradientBoostingRegressor: Optimal Parameters\", fontsize=14)\n",
    "plt.xlabel(\"$x$\", fontsize=16)\n",
    "plt.ylabel(\"$y$\", fontsize=16, rotation=0)"
   ]
  },
  {
   "cell_type": "markdown",
   "metadata": {},
   "source": [
    "### Create Optimal RandomForestRegressor Model"
   ]
  },
  {
   "cell_type": "code",
   "execution_count": 79,
   "metadata": {},
   "outputs": [
    {
     "data": {
      "text/plain": [
       "RandomForestRegressor(max_depth=5, min_samples_split=6, random_state=42)"
      ]
     },
     "execution_count": 79,
     "metadata": {},
     "output_type": "execute_result"
    }
   ],
   "source": [
    "#using optimal paramaters from grid search above\n",
    "\n",
    "rnd_reg = RandomForestRegressor(n_estimators=100\n",
    "                                , min_samples_split=6, max_depth=5, random_state=42)\n",
    "rnd_reg.fit(X_train, y_train)"
   ]
  },
  {
   "cell_type": "markdown",
   "metadata": {},
   "source": [
    "### Plot Model Predictions for Training Set"
   ]
  },
  {
   "cell_type": "code",
   "execution_count": 80,
   "metadata": {},
   "outputs": [
    {
     "data": {
      "text/plain": [
       "Text(0, 0.5, '$y$')"
      ]
     },
     "execution_count": 80,
     "metadata": {},
     "output_type": "execute_result"
    },
    {
     "data": {
      "image/png": "[encoded data removed]",
      "text/plain": [
       "<Figure size 792x360 with 1 Axes>"
      ]
     },
     "metadata": {
      "needs_background": "light"
     },
     "output_type": "display_data"
    }
   ],
   "source": [
    "plt.figure(figsize=(11,5))\n",
    "plot_predictions(rnd_reg, X_train, y_train, axes=[0, 2, 0, 14],label=\"Ensemble predictions\")\n",
    "plt.title(\"RandomForestRegressor: Optimal Parameters\", fontsize=14)\n",
    "plt.xlabel(\"$x$\", fontsize=16)\n",
    "plt.ylabel(\"$y$\", fontsize=16, rotation=0)"
   ]
  },
  {
   "cell_type": "markdown",
   "metadata": {},
   "source": [
    "### Create Optimal DecisionTreeRegressor Model"
   ]
  },
  {
   "cell_type": "code",
   "execution_count": 81,
   "metadata": {},
   "outputs": [
    {
     "data": {
      "text/plain": [
       "DecisionTreeRegressor(max_depth=6, min_samples_split=10, random_state=42)"
      ]
     },
     "execution_count": 81,
     "metadata": {},
     "output_type": "execute_result"
    }
   ],
   "source": [
    "#using optimal paramaters from grid search above\n",
    "\n",
    "tree_reg = DecisionTreeRegressor(splitter='best', max_depth=6, min_samples_split=10, random_state=42)\n",
    "tree_reg.fit(X_train, y_train)\n"
   ]
  },
  {
   "cell_type": "markdown",
   "metadata": {},
   "source": [
    "### Plot Model Predictions for Training Set"
   ]
  },
  {
   "cell_type": "code",
   "execution_count": 82,
   "metadata": {},
   "outputs": [
    {
     "data": {
      "text/plain": [
       "Text(0, 0.5, '$y$')"
      ]
     },
     "execution_count": 82,
     "metadata": {},
     "output_type": "execute_result"
    },
    {
     "data": {
      "image/png": "[encoded data removed]",
      "text/plain": [
       "<Figure size 792x360 with 1 Axes>"
      ]
     },
     "metadata": {
      "needs_background": "light"
     },
     "output_type": "display_data"
    }
   ],
   "source": [
    "plt.figure(figsize=(11,5))\n",
    "plot_predictions(tree_reg, X_train, y_train, axes=[0, 2, 0, 14],label=\"Single Decision Tree\")\n",
    "plt.title(\"DecisionTreeRegressor: Optimal Parameters\", fontsize=14)\n",
    "plt.xlabel(\"$x$\", fontsize=16)\n",
    "plt.ylabel(\"$y$\", fontsize=16, rotation=0)"
   ]
  },
  {
   "cell_type": "markdown",
   "metadata": {},
   "source": [
    "# Compute Generalization Error\n",
    "\n",
    "Compute the generalization error for each of the optimal models computed above.  Use MSE as the generalization error metric.  Round your answers to four significant digits.  Print the generalization error for all three models."
   ]
  },
  {
   "cell_type": "code",
   "execution_count": 91,
   "metadata": {},
   "outputs": [
    {
     "name": "stdout",
     "output_type": "stream",
     "text": [
      "Gradiant Booster Regresssor model MSE: 1.3261\n"
     ]
    }
   ],
   "source": [
    "from sklearn.metrics import mean_squared_error\n",
    "y_gbrt_pred = gbrt.predict(X_test)\n",
    "gbrt_mse = mean_squared_error(y_test, y_gbrt_pred)\n",
    "gbrt_mse = round(gbrt_mse,4)\n",
    "print(\"Gradiant Booster Regresssor model MSE:\",gbrt_mse)"
   ]
  },
  {
   "cell_type": "code",
   "execution_count": 95,
   "metadata": {},
   "outputs": [
    {
     "name": "stdout",
     "output_type": "stream",
     "text": [
      "Random Forest Regressor model MSE: 1.3224\n"
     ]
    }
   ],
   "source": [
    "y_rnd_reg_pred = rnd_reg.predict(X_test)\n",
    "rnd_reg_mse = mean_squared_error(y_test, y_rnd_reg_pred)\n",
    "rnd_reg_mse = round(rnd_reg_mse,4)\n",
    "print(\"Random Forest Regressor model MSE:\",rnd_reg_mse)"
   ]
  },
  {
   "cell_type": "code",
   "execution_count": 97,
   "metadata": {},
   "outputs": [
    {
     "name": "stdout",
     "output_type": "stream",
     "text": [
      "Decision Tree Regressor model MSE: 1.5705\n"
     ]
    }
   ],
   "source": [
    "y_tree_reg_pred = tree_reg.predict(X_test)\n",
    "tree_reg_mse = mean_squared_error(y_test, y_tree_reg_pred)\n",
    "tree_reg_mse = round(tree_reg_mse,4)\n",
    "print(\"Decision Tree Regressor model MSE:\",tree_reg_mse)"
   ]
  },
  {
   "cell_type": "markdown",
   "metadata": {},
   "source": [
    "# Critical Analysis\n",
    "\n",
    "Think critically about the different algorithms, as well as their prediction results, and characterize the trends you observe in the prediction results. Can you explain in your own words how the algorithms work? How do the results predicted by these models compare and contrast?  Can you see any relationship between the algorithms and the model results? Can you see any relationship between the prediction curves and the generalization error?\n",
    "\n",
    "I am looking for **meaningful content** here.  Do not copy-and-paste model definitions off of the Internet.  You should think and write critically.\n"
   ]
  },
  {
   "cell_type": "markdown",
   "metadata": {},
   "source": [
    "All three models appear to have prediction results that overfit the data to varying degrees. However, one of the models generalizes better than the other two models. \n",
    "\n",
    "How Decision Tree Regressor works:\n",
    "In General, a Decision Tree starts off with a 'Root Node', where an initial question is asked. Then based off the answer to that question, or in this case if the continuous numerical variable reaches some threshold, a classification is made as you traverse down to a 'Decision Node' or 'child node', which is the result of splitting the previous node into two different nodes. You keep traversing down the tree until you reach a 'Leaf Node', where no further questions or thresholds are asked, and a final classification or answer is made. Moreover, if the impurity of the node can no longer be reduced, you have reached the leaf node. Once we have reached this point the algorithm takes the average of all the data points in the leaf node and uses that value as the prediction. In this case, our Decision Tree algorithm works as a Decision Tree Regressor as we need the model to apply a line of best fit on the continuous data.\n",
    "\n",
    "How the Random Forest Regressor works:\n",
    "The random forest algorithm is a collection of random decision trees (hence the name 'forest'). In this case, the optimal Random Forest Regressor trained 100 trees (as seen above). Generally speaking, this algorithm will randomly select a subset of features for each tree to train with. Then create decision trees for each subset. Each tree makes its own predictions and at the end all the predictions are averaged. \n",
    "\n",
    "\n",
    "How the Gradient Booster Regressor model works: Like our Random Forest Regressor, Gradient Booster Regressor is another ensemble method that combines the predictions from a number of individual trees. More specifically, the algorithm makes predictions from the residual errors of the proceeding trees. First it calculates the average, then subtracts the actual data point from the predicted data point (in this case average) to determine the error. Then builds trees based on these errors. \n",
    "\n",
    "The main relationship between the prediction curves and the generalization error are that the lower the generalization error, the less the models appear to overfit the data. In this case, the random forest regressor model has the lower generalization error and the prediction curve generalizes and fits better than the other two models.\n"
   ]
  },
  {
   "cell_type": "markdown",
   "metadata": {},
   "source": [
    "# Final Model Selection and Justification\n",
    "\n",
    "Based on the arguments outlined in your critical analysis, make one final model recommendation.  Which model best characterizes this data?  In other words, which of these models is going to generalize better? Consider all factors.  What is the type of the optimal model (i.e. `GradientBoostingRegressor`, `RandomForestRegressor`, or `DecisionTreeRegressor`)? What are the optimal model hyperparameters that should be used for training on this data set?    Succinctly summarize the justification for your choice based on your arguments made above in the critical analysis section.\n"
   ]
  },
  {
   "cell_type": "markdown",
   "metadata": {},
   "source": [
    "[Random Forest Regressor model has the lowest average squared error as seen above in the MSE values. Therefore, the trend line fits the the actual data points better than the other two models. This is evident in the graphs shows above. The optimal hyperparameters that should be used on the training set are max_depth = 5, n_estimators = 100, and min_samples_split = 6, which was calculated using 3 rounds of grid searches as seen above. ] "
   ]
  },
  {
   "cell_type": "code",
   "execution_count": null,
   "metadata": {},
   "outputs": [],
   "source": []
  }
 ],
 "metadata": {
  "kernelspec": {
   "display_name": "Python 3",
   "language": "python",
   "name": "python3"
  },
  "language_info": {
   "codemirror_mode": {
    "name": "ipython",
    "version": 3
   },
   "file_extension": ".py",
   "mimetype": "text/x-python",
   "name": "python",
   "nbconvert_exporter": "python",
   "pygments_lexer": "ipython3",
   "version": "3.8.3"
  }
 },
 "nbformat": 4,
 "nbformat_minor": 2
}
